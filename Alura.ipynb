{
  "nbformat": 4,
  "nbformat_minor": 0,
  "metadata": {
    "colab": {
      "name": "Alura.ipynb",
      "provenance": [],
      "collapsed_sections": [],
      "authorship_tag": "ABX9TyMzcywLdKsPLmS9subvnNWp",
      "include_colab_link": true
    },
    "kernelspec": {
      "name": "python3",
      "display_name": "Python 3"
    },
    "language_info": {
      "name": "python"
    }
  },
  "cells": [
    {
      "cell_type": "markdown",
      "metadata": {
        "id": "view-in-github",
        "colab_type": "text"
      },
      "source": [
        "<a href=\"https://colab.research.google.com/github/MarceloGilos/alura/blob/main/Alura.ipynb\" target=\"_parent\"><img src=\"https://colab.research.google.com/assets/colab-badge.svg\" alt=\"Open In Colab\"/></a>"
      ]
    },
    {
      "cell_type": "code",
      "execution_count": 1,
      "metadata": {
        "id": "s-es1eb2Drkj"
      },
      "outputs": [],
      "source": [
        "#Definir um modelo de treino, definir uma lista com dados para treino e dados com os resultados esperados, treinar com base na lista de dados e nos resultados esperados.\n",
        "#features(q sim , 0 não)\n",
        "#pelo longo?\n",
        "#perna curta?\n",
        "#faz auau?\n",
        "porco1 = [0, 1, 0]\n",
        "porco2 = [0, 1, 1]\n",
        "porco3 = [1, 1, 0]\n",
        "\n",
        "cachorro1 = [0, 1, 1]\n",
        "cachorro2 = [1, 0, 1]\n",
        "cachorro3 = [1, 1, 1]\n",
        "#1 => porco, 0=>cachorro\n",
        "treino_x = [porco1, porco2, porco3, cachorro1, cachorro2, cachorro3]\n",
        "treino_y = [1,1,1,0,0,0] #labels = etiqueta\n"
      ]
    },
    {
      "cell_type": "code",
      "source": [
        "from sklearn.svm import LinearSVC\n",
        "#sckitlearn - bilbioteca do phyton que tem varias funções de estatistica\n",
        "#linear é uma classe que gera um modelo referente ao que você quer carregar\n",
        "model = LinearSVC()\n",
        "#metodo fit , tentar se adptar com os dados e classes(de maneira supervisionada)\n",
        "model.fit(treino_x, treino_y)"
      ],
      "metadata": {
        "colab": {
          "base_uri": "https://localhost:8080/"
        },
        "id": "eYqpqKNDE3Id",
        "outputId": "38df87f7-ace5-4770-ed57-22a9c6602eda"
      },
      "execution_count": 2,
      "outputs": [
        {
          "output_type": "execute_result",
          "data": {
            "text/plain": [
              "LinearSVC()"
            ]
          },
          "metadata": {},
          "execution_count": 2
        }
      ]
    },
    {
      "cell_type": "code",
      "source": [
        "animal_misterioso = [1,1,1]\n",
        "#fazendo o modelo prever(predict) quem é o animal que você quer descobrir\n",
        "#passar uma lista[] com 1 item(animal_misterioso) que contem 3 features(caracte)\n",
        "model.predict([animal_misterioso])"
      ],
      "metadata": {
        "colab": {
          "base_uri": "https://localhost:8080/"
        },
        "id": "Bm9Jvi4MFeqy",
        "outputId": "542d2c5a-a733-470d-ace2-ca8f4db6b46d"
      },
      "execution_count": 3,
      "outputs": [
        {
          "output_type": "execute_result",
          "data": {
            "text/plain": [
              "array([0])"
            ]
          },
          "metadata": {},
          "execution_count": 3
        }
      ]
    },
    {
      "cell_type": "code",
      "source": [
        "misterio1 = [1,1,1]\n",
        "misterio2 = [1,1,0]\n",
        "misterio3 = [0,1,1]\n",
        "#passar uma lista [] com 3 itens\n",
        "teste_x = [misterio1,misterio2,misterio3]\n",
        "#resposta corretas\n",
        "teste_y = [0, 1, 1]\n"
      ],
      "metadata": {
        "id": "wkgmQhKLFqFo"
      },
      "execution_count": 4,
      "outputs": []
    },
    {
      "cell_type": "code",
      "source": [
        "#previsões baseada nos dados que passamos\n",
        "previsoes = model.predict(teste_x)"
      ],
      "metadata": {
        "id": "uFvquJEKGGTa"
      },
      "execution_count": 5,
      "outputs": []
    },
    {
      "cell_type": "code",
      "source": [
        "teste_y"
      ],
      "metadata": {
        "colab": {
          "base_uri": "https://localhost:8080/"
        },
        "id": "7KjRroHBGZN5",
        "outputId": "13408a9a-3b57-403e-e37b-2a9a17484bcd"
      },
      "execution_count": 6,
      "outputs": [
        {
          "output_type": "execute_result",
          "data": {
            "text/plain": [
              "[0, 1, 1]"
            ]
          },
          "metadata": {},
          "execution_count": 6
        }
      ]
    },
    {
      "cell_type": "code",
      "source": [
        "previsoes #usa numpy por de baixo dos panos \"array[]\"\""
      ],
      "metadata": {
        "colab": {
          "base_uri": "https://localhost:8080/"
        },
        "id": "l2_m1Q2FGahN",
        "outputId": "950816f8-2f9c-4664-8d94-a2fe6c49a15c"
      },
      "execution_count": 7,
      "outputs": [
        {
          "output_type": "execute_result",
          "data": {
            "text/plain": [
              "array([0, 1, 0])"
            ]
          },
          "metadata": {},
          "execution_count": 7
        }
      ]
    },
    {
      "cell_type": "code",
      "source": [
        "#o numpy passa um array com comparações do que acerto ou erro\n",
        "#.sum() estamos somando apra saber quanto ele acerto\n",
        "#\n",
        "corretos = (previsoes == teste_y).sum()\n",
        "#len = total de itens de um oobjeto\n",
        "total = len(teste_x)\n",
        "#fazendo um função para tirar a taxa de acerto(matematica)\n",
        "taxa_de_acerto = corretos/total\n",
        "print(\"Taxa de acerto:\", taxa_de_acerto*100)"
      ],
      "metadata": {
        "colab": {
          "base_uri": "https://localhost:8080/"
        },
        "id": "02lv9KIwGmzs",
        "outputId": "c96ef167-d9bb-4db9-d89a-54fbfc3985d2"
      },
      "execution_count": 8,
      "outputs": [
        {
          "output_type": "stream",
          "name": "stdout",
          "text": [
            "Taxa de acerto: 66.66666666666666\n"
          ]
        }
      ]
    },
    {
      "cell_type": "code",
      "source": [
        "#nas bibliotecas ja temos funções para taxa de acerto\n",
        "#accuracy = precisão\n",
        "from sklearn.metrics import accuracy_score\n",
        "#isso dara minha nota de taxa de acerto.\n",
        "taxa_de_acerto = accuracy_score(teste_y, previsoes)\n",
        "#porcentagem\n",
        "print(\"Taxa de acerto %.2f\" % (taxa_de_acerto*100))"
      ],
      "metadata": {
        "colab": {
          "base_uri": "https://localhost:8080/"
        },
        "id": "uubD-U8jGy3N",
        "outputId": "25323898-71c3-4cbf-df2a-581ecedf7956"
      },
      "execution_count": 12,
      "outputs": [
        {
          "output_type": "stream",
          "name": "stdout",
          "text": [
            "Taxa de acerto 66.67\n"
          ]
        }
      ]
    },
    {
      "cell_type": "code",
      "source": [
        ""
      ],
      "metadata": {
        "id": "zVkOKeqqHvR-"
      },
      "execution_count": 9,
      "outputs": []
    }
  ]
}